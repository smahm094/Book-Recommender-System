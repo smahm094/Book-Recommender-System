{
 "cells": [
  {
   "cell_type": "code",
   "execution_count": 97,
   "id": "4c64c31f",
   "metadata": {},
   "outputs": [],
   "source": [
    "import numpy as np\n",
    "import pandas as pd\n",
    "from collections import Counter\n",
    "import contractions\n",
    "\n",
    "import matplotlib.pyplot as plt\n",
    "\n",
    "import nltk\n",
    "from nltk import word_tokenize\n",
    "from nltk.corpus import stopwords\n",
    "from nltk.stem.porter import PorterStemmer\n",
    "from nltk.probability import FreqDist\n",
    "from nltk.stem.wordnet import WordNetLemmatizer\n",
    "\n",
    "import pandas as pd\n",
    "\n",
    "import random\n",
    "\n",
    "import re\n",
    "\n",
    "import seaborn as sns\n",
    "\n",
    "from sklearn.ensemble import RandomForestClassifier\n",
    "from sklearn.feature_extraction.text import CountVectorizer, TfidfTransformer\n",
    "from sklearn.metrics import classification_report\n",
    "from sklearn.metrics import confusion_matrix\n",
    "from sklearn.linear_model import SGDClassifier\n",
    "from sklearn.model_selection import cross_val_score, ShuffleSplit, train_test_split\n",
    "from sklearn.naive_bayes import MultinomialNB\n",
    "from sklearn.neighbors import KNeighborsClassifier\n",
    "from sklearn.pipeline import Pipeline\n",
    "from sklearn.tree import DecisionTreeClassifier\n",
    "\n",
    "# Used for removing accented characters\n",
    "import unicodedata\n",
    "\n",
    "# pip install wordcloud\n",
    "from wordcloud import WordCloud\n",
    "\n",
    "import csv\n",
    "from tqdm import tqdm"
   ]
  },
  {
   "cell_type": "code",
   "execution_count": 135,
   "id": "570166b7",
   "metadata": {},
   "outputs": [],
   "source": [
    "df = pd.DataFrame()\n",
    "df = pd.read_csv('new_books_summary.csv')"
   ]
  },
  {
   "cell_type": "code",
   "execution_count": 136,
   "id": "e539a555",
   "metadata": {},
   "outputs": [
    {
     "data": {
      "text/html": [
       "<div>\n",
       "<style scoped>\n",
       "    .dataframe tbody tr th:only-of-type {\n",
       "        vertical-align: middle;\n",
       "    }\n",
       "\n",
       "    .dataframe tbody tr th {\n",
       "        vertical-align: top;\n",
       "    }\n",
       "\n",
       "    .dataframe thead th {\n",
       "        text-align: right;\n",
       "    }\n",
       "</style>\n",
       "<table border=\"1\" class=\"dataframe\">\n",
       "  <thead>\n",
       "    <tr style=\"text-align: right;\">\n",
       "      <th></th>\n",
       "      <th>Unnamed: 0</th>\n",
       "      <th>book_name</th>\n",
       "      <th>cleaned_text</th>\n",
       "      <th>cleaned_text_length</th>\n",
       "      <th>cleaned_genre</th>\n",
       "    </tr>\n",
       "  </thead>\n",
       "  <tbody>\n",
       "    <tr>\n",
       "      <th>0</th>\n",
       "      <td>8</td>\n",
       "      <td>Blade Runner 3: Replicant Night</td>\n",
       "      <td>['living', 'mar', 'deckard', 'acting', 'consul...</td>\n",
       "      <td>27</td>\n",
       "      <td>['Science Fiction', 'Speculative fiction']</td>\n",
       "    </tr>\n",
       "    <tr>\n",
       "      <th>1</th>\n",
       "      <td>9</td>\n",
       "      <td>Blade Runner 2: The Edge of Human</td>\n",
       "      <td>['beginning', 'several', 'month', 'event', 'bl...</td>\n",
       "      <td>163</td>\n",
       "      <td>['Science Fiction', 'Speculative fiction']</td>\n",
       "    </tr>\n",
       "    <tr>\n",
       "      <th>2</th>\n",
       "      <td>20</td>\n",
       "      <td>Crash</td>\n",
       "      <td>['story', 'told', 'eye', 'narrator', 'james', ...</td>\n",
       "      <td>55</td>\n",
       "      <td>['Novel', 'Speculative fiction', 'Fiction']</td>\n",
       "    </tr>\n",
       "    <tr>\n",
       "      <th>3</th>\n",
       "      <td>25</td>\n",
       "      <td>The Cider House Rules</td>\n",
       "      <td>['homer', 'well', 'grows', 'orphanage', 'spend...</td>\n",
       "      <td>293</td>\n",
       "      <td>['Fiction']</td>\n",
       "    </tr>\n",
       "    <tr>\n",
       "      <th>4</th>\n",
       "      <td>31</td>\n",
       "      <td>Death of a Hero</td>\n",
       "      <td>['death', 'hero', 'story', 'young', 'english',...</td>\n",
       "      <td>194</td>\n",
       "      <td>['Fiction']</td>\n",
       "    </tr>\n",
       "    <tr>\n",
       "      <th>...</th>\n",
       "      <td>...</td>\n",
       "      <td>...</td>\n",
       "      <td>...</td>\n",
       "      <td>...</td>\n",
       "      <td>...</td>\n",
       "    </tr>\n",
       "    <tr>\n",
       "      <th>7672</th>\n",
       "      <td>16544</td>\n",
       "      <td>Heaven</td>\n",
       "      <td>['heaven', 'leigh', 'casteel', 'fourteen', 'ye...</td>\n",
       "      <td>655</td>\n",
       "      <td>['Fiction']</td>\n",
       "    </tr>\n",
       "    <tr>\n",
       "      <th>7673</th>\n",
       "      <td>16549</td>\n",
       "      <td>The Third Lynx</td>\n",
       "      <td>['story', 'start', 'former', 'government', 'ag...</td>\n",
       "      <td>85</td>\n",
       "      <td>['Science Fiction']</td>\n",
       "    </tr>\n",
       "    <tr>\n",
       "      <th>7674</th>\n",
       "      <td>16551</td>\n",
       "      <td>Remote Control</td>\n",
       "      <td>['series', 'follows', 'character', 'nick', 'st...</td>\n",
       "      <td>34</td>\n",
       "      <td>['Fiction']</td>\n",
       "    </tr>\n",
       "    <tr>\n",
       "      <th>7675</th>\n",
       "      <td>16555</td>\n",
       "      <td>Transfer of Power</td>\n",
       "      <td>['reader', 'first', 'meet', 'rapp', 'covert', ...</td>\n",
       "      <td>114</td>\n",
       "      <td>['Fiction']</td>\n",
       "    </tr>\n",
       "    <tr>\n",
       "      <th>7676</th>\n",
       "      <td>16558</td>\n",
       "      <td>Poor Folk</td>\n",
       "      <td>['makar', 'devushkin', 'varvara', 'dobroselova...</td>\n",
       "      <td>323</td>\n",
       "      <td>['Speculative fiction']</td>\n",
       "    </tr>\n",
       "  </tbody>\n",
       "</table>\n",
       "<p>7677 rows × 5 columns</p>\n",
       "</div>"
      ],
      "text/plain": [
       "      Unnamed: 0                          book_name  \\\n",
       "0              8    Blade Runner 3: Replicant Night   \n",
       "1              9  Blade Runner 2: The Edge of Human   \n",
       "2             20                              Crash   \n",
       "3             25              The Cider House Rules   \n",
       "4             31                    Death of a Hero   \n",
       "...          ...                                ...   \n",
       "7672       16544                             Heaven   \n",
       "7673       16549                     The Third Lynx   \n",
       "7674       16551                     Remote Control   \n",
       "7675       16555                  Transfer of Power   \n",
       "7676       16558                          Poor Folk   \n",
       "\n",
       "                                           cleaned_text  cleaned_text_length  \\\n",
       "0     ['living', 'mar', 'deckard', 'acting', 'consul...                   27   \n",
       "1     ['beginning', 'several', 'month', 'event', 'bl...                  163   \n",
       "2     ['story', 'told', 'eye', 'narrator', 'james', ...                   55   \n",
       "3     ['homer', 'well', 'grows', 'orphanage', 'spend...                  293   \n",
       "4     ['death', 'hero', 'story', 'young', 'english',...                  194   \n",
       "...                                                 ...                  ...   \n",
       "7672  ['heaven', 'leigh', 'casteel', 'fourteen', 'ye...                  655   \n",
       "7673  ['story', 'start', 'former', 'government', 'ag...                   85   \n",
       "7674  ['series', 'follows', 'character', 'nick', 'st...                   34   \n",
       "7675  ['reader', 'first', 'meet', 'rapp', 'covert', ...                  114   \n",
       "7676  ['makar', 'devushkin', 'varvara', 'dobroselova...                  323   \n",
       "\n",
       "                                    cleaned_genre  \n",
       "0      ['Science Fiction', 'Speculative fiction']  \n",
       "1      ['Science Fiction', 'Speculative fiction']  \n",
       "2     ['Novel', 'Speculative fiction', 'Fiction']  \n",
       "3                                     ['Fiction']  \n",
       "4                                     ['Fiction']  \n",
       "...                                           ...  \n",
       "7672                                  ['Fiction']  \n",
       "7673                          ['Science Fiction']  \n",
       "7674                                  ['Fiction']  \n",
       "7675                                  ['Fiction']  \n",
       "7676                      ['Speculative fiction']  \n",
       "\n",
       "[7677 rows x 5 columns]"
      ]
     },
     "execution_count": 136,
     "metadata": {},
     "output_type": "execute_result"
    }
   ],
   "source": [
    "df"
   ]
  },
  {
   "cell_type": "markdown",
   "id": "eb690709",
   "metadata": {},
   "source": [
    "df"
   ]
  },
  {
   "cell_type": "code",
   "execution_count": 137,
   "id": "158d89dd",
   "metadata": {},
   "outputs": [
    {
     "data": {
      "image/png": "[encoded data removed]",
      "text/plain": [
       "<Figure size 864x1080 with 1 Axes>"
      ]
     },
     "metadata": {
      "needs_background": "light"
     },
     "output_type": "display_data"
    }
   ],
   "source": [
    "def freq_words(x, terms = 30): \n",
    "    all_words = ' '.join([text for text in x]) \n",
    "    all_words = all_words.split() \n",
    "    fdist = nltk.FreqDist(all_words) \n",
    "    words_df = pd.DataFrame({'word':list(fdist.keys()), 'count':list(fdist.values())}) \n",
    "\n",
    "    # selecting top 20 most frequent words \n",
    "    d = words_df.nlargest(columns=\"count\", n = terms) \n",
    "\n",
    "    # visualize words and frequencies\n",
    "    plt.figure(figsize=(12,15)) \n",
    "    ax = sns.barplot(data=d, x= \"count\", y = \"word\") \n",
    "    ax.set(ylabel = 'Word') \n",
    "    plt.show()\n",
    "  \n",
    "freq_words(df['cleaned_text'], 30)"
   ]
  },
  {
   "cell_type": "code",
   "execution_count": 143,
   "id": "1c2cc127",
   "metadata": {},
   "outputs": [],
   "source": [
    "def loop_list(original_list):\n",
    "    new_list = []\n",
    "#     print(original_list)\n",
    "    for item in original_list:\n",
    "        new_list.append(item.strip())\n",
    "    return new_list\n",
    "list_tags = []\n",
    "\n",
    "df['genre'] = df['cleaned_genre'].apply(lambda x:x.replace(\"[\",'').replace(']','').replace(\"\\\"\",'').replace('\\'','').split(','))\n",
    "df['genre'] = df['genre'].apply(lambda x:loop_list(x))\n",
    "df['summary'] = df['cleaned_text'].apply(lambda x:x.replace(\"[\",'').replace(']','').replace(\"\\\"\",'').replace('\\'','').split(','))"
   ]
  },
  {
   "cell_type": "code",
   "execution_count": 139,
   "id": "68a75667",
   "metadata": {},
   "outputs": [],
   "source": [
    "df['summary'] = df['summary'].apply(lambda x:\"\".join(x))"
   ]
  },
  {
   "cell_type": "code",
   "execution_count": 140,
   "id": "7d886639",
   "metadata": {},
   "outputs": [],
   "source": [
    "#One hot encoding. I just found an easy way to do that. Do not need that another process\n",
    "from sklearn.preprocessing import MultiLabelBinarizer\n",
    "\n",
    "multilabel_binarizer = MultiLabelBinarizer()\n",
    "multilabel_binarizer.fit(df['genre'])\n",
    "\n",
    "# transform target variable\n",
    "y = multilabel_binarizer.transform(df['genre'])"
   ]
  },
  {
   "cell_type": "code",
   "execution_count": 146,
   "id": "4409599c",
   "metadata": {},
   "outputs": [
    {
     "name": "stdout",
     "output_type": "stream",
     "text": [
      "[0 0 0 0 1 1]\n",
      "('Fantasy', 'Fiction')\n",
      "[]\n"
     ]
    }
   ],
   "source": [
    "print(y[0])\n",
    "print(multilabel_binarizer.inverse_transform(y)[6])\n",
    "print(list_tags)"
   ]
  },
  {
   "cell_type": "code",
   "execution_count": 122,
   "id": "6d46a55f",
   "metadata": {},
   "outputs": [],
   "source": [
    "xtrain, xval, ytrain, yval = train_test_split(df['summary'], y, test_size=0.2, random_state=9)\n",
    "from sklearn.feature_extraction.text import TfidfVectorizer\n",
    "from sklearn.model_selection import train_test_split\n",
    "\n",
    "bow_cln_tr = CountVectorizer().fit(df['summary'])\n",
    "bow_cln_docs = bow_cln_tr.transform(df['summary'])\n",
    "\n",
    "tfidf_cln_tr = TfidfTransformer().fit(bow_cln_docs)\n",
    "tfidf_adv_cln_docs = tfidf_cln_tr.transform(bow_cln_docs)"
   ]
  },
  {
   "cell_type": "code",
   "execution_count": 123,
   "id": "355035f2",
   "metadata": {},
   "outputs": [],
   "source": [
    "f1_score_dict = {}\n",
    "accuracy_score_dict = {}"
   ]
  },
  {
   "cell_type": "code",
   "execution_count": 124,
   "id": "89d9d68d",
   "metadata": {},
   "outputs": [],
   "source": [
    "#\n",
    "# OneVsRestClassifier\n",
    "#\n",
    "\n",
    "# OVR + Cleaned Samples\n",
    "from sklearn.linear_model import LogisticRegression\n",
    "from sklearn.multiclass import OneVsRestClassifier\n",
    "from sklearn.metrics import f1_score\n",
    "from sklearn.metrics import accuracy_score\n",
    "pipeline = Pipeline([(\"bow\", bow_cln_tr),\n",
    "                     (\"tfidf\", tfidf_cln_tr),\n",
    "                     (\"clf\", OneVsRestClassifier(LogisticRegression()))])\n",
    "pipeline.fit(xtrain, ytrain)\n",
    "predictions_cln = pipeline.predict(xval)\n",
    "f1_score_dict[\"OneVsRest\"] = f1_score(yval, predictions_cln, average=\"micro\")\n",
    "accuracy_score_dict[\"OneVsRest\"] = accuracy_score(yval,predictions_cln)"
   ]
  },
  {
   "cell_type": "code",
   "execution_count": 126,
   "id": "3b2065c3",
   "metadata": {},
   "outputs": [],
   "source": [
    "#\n",
    "# Binary Relevance\n",
    "#\n",
    "\n",
    "# BR + Cleaned Samples\n",
    "from skmultilearn.problem_transform import BinaryRelevance\n",
    "from sklearn.naive_bayes import GaussianNB\n",
    "pipeline = Pipeline([(\"bow\", bow_cln_tr),\n",
    "                     (\"tfidf\", tfidf_cln_tr),\n",
    "                     (\"clf\", BinaryRelevance(GaussianNB()))])\n",
    "pipeline.fit(xtrain, ytrain)\n",
    "predictions_cln = pipeline.predict(xval)\n",
    "f1_score_dict[\"BinaryRelevance\"] = f1_score(yval, predictions_cln, average=\"micro\")\n",
    "accuracy_score_dict[\"BinaryRelevance\"] = accuracy_score(yval,predictions_cln)"
   ]
  },
  {
   "cell_type": "code",
   "execution_count": 128,
   "id": "622c9ecb",
   "metadata": {},
   "outputs": [],
   "source": [
    "#\n",
    "# Classifier Chains\n",
    "#\n",
    "\n",
    "# CC + Cleaned Samples\n",
    "from skmultilearn.problem_transform import ClassifierChain\n",
    "from sklearn.linear_model import LogisticRegression\n",
    "pipeline = Pipeline([(\"bow\", bow_cln_tr),\n",
    "                     (\"tfidf\", tfidf_cln_tr),\n",
    "                     (\"clf\", ClassifierChain(LogisticRegression()))])\n",
    "pipeline.fit(xtrain, ytrain)\n",
    "predictions_cln = pipeline.predict(xval)\n",
    "f1_score_dict[\"ClassifierChains\"] = f1_score(yval, predictions_cln, average=\"micro\")\n",
    "accuracy_score_dict[\"ClassifierChains\"] = accuracy_score(yval,predictions_cln)"
   ]
  },
  {
   "cell_type": "code",
   "execution_count": 130,
   "id": "8f87b941",
   "metadata": {},
   "outputs": [
    {
     "name": "stderr",
     "output_type": "stream",
     "text": [
      "C:\\Users\\yinruojiang\\anaconda3\\lib\\site-packages\\sklearn\\linear_model\\_logistic.py:814: ConvergenceWarning: lbfgs failed to converge (status=1):\n",
      "STOP: TOTAL NO. of ITERATIONS REACHED LIMIT.\n",
      "\n",
      "Increase the number of iterations (max_iter) or scale the data as shown in:\n",
      "    https://scikit-learn.org/stable/modules/preprocessing.html\n",
      "Please also refer to the documentation for alternative solver options:\n",
      "    https://scikit-learn.org/stable/modules/linear_model.html#logistic-regression\n",
      "  n_iter_i = _check_optimize_result(\n"
     ]
    }
   ],
   "source": [
    "#\n",
    "# Label Powerset\n",
    "#\n",
    "\n",
    "# LP + Cleaned Samples\n",
    "from skmultilearn.problem_transform import LabelPowerset\n",
    "pipeline = Pipeline([(\"bow\", bow_cln_tr),\n",
    "                     (\"tfidf\", tfidf_cln_tr),\n",
    "                     (\"clf\", LabelPowerset(LogisticRegression()))])\n",
    "pipeline.fit(xtrain, ytrain)\n",
    "predictions_cln = pipeline.predict(xval)\n",
    "f1_score_dict[\"LabelPowerset\"] = f1_score(yval, predictions_cln, average=\"micro\")\n",
    "accuracy_score_dict[\"LabelPowerset\"] = accuracy_score(yval,predictions_cln)"
   ]
  },
  {
   "cell_type": "code",
   "execution_count": 131,
   "id": "0cb5557a",
   "metadata": {},
   "outputs": [
    {
     "name": "stdout",
     "output_type": "stream",
     "text": [
      "{'OneVsRest': 0.4704532415375789, 'BinaryRelevance': 0.4932754880694143, 'ClassifierChains': 0.5516067248350712, 'LabelPowerset': 0.5747976878612717}\n",
      "{'OneVsRest': 0.185546875, 'BinaryRelevance': 0.21809895833333334, 'ClassifierChains': 0.2708333333333333, 'LabelPowerset': 0.3391927083333333}\n"
     ]
    }
   ],
   "source": [
    "print(f1_score_dict)\n",
    "print(accuracy_score_dict)"
   ]
  },
  {
   "cell_type": "code",
   "execution_count": 132,
   "id": "e0259612",
   "metadata": {},
   "outputs": [
    {
     "data": {
      "text/html": [
       "<div>\n",
       "<style scoped>\n",
       "    .dataframe tbody tr th:only-of-type {\n",
       "        vertical-align: middle;\n",
       "    }\n",
       "\n",
       "    .dataframe tbody tr th {\n",
       "        vertical-align: top;\n",
       "    }\n",
       "\n",
       "    .dataframe thead th {\n",
       "        text-align: right;\n",
       "    }\n",
       "</style>\n",
       "<table border=\"1\" class=\"dataframe\">\n",
       "  <thead>\n",
       "    <tr style=\"text-align: right;\">\n",
       "      <th></th>\n",
       "      <th>Classifier + Sample Type</th>\n",
       "      <th>F1_Score</th>\n",
       "    </tr>\n",
       "  </thead>\n",
       "  <tbody>\n",
       "    <tr>\n",
       "      <th>0</th>\n",
       "      <td>OneVsRest</td>\n",
       "      <td>0.470453</td>\n",
       "    </tr>\n",
       "    <tr>\n",
       "      <th>1</th>\n",
       "      <td>BinaryRelevance</td>\n",
       "      <td>0.493275</td>\n",
       "    </tr>\n",
       "    <tr>\n",
       "      <th>2</th>\n",
       "      <td>ClassifierChains</td>\n",
       "      <td>0.551607</td>\n",
       "    </tr>\n",
       "    <tr>\n",
       "      <th>3</th>\n",
       "      <td>LabelPowerset</td>\n",
       "      <td>0.574798</td>\n",
       "    </tr>\n",
       "  </tbody>\n",
       "</table>\n",
       "</div>"
      ],
      "text/plain": [
       "  Classifier + Sample Type  F1_Score\n",
       "0                OneVsRest  0.470453\n",
       "1          BinaryRelevance  0.493275\n",
       "2         ClassifierChains  0.551607\n",
       "3            LabelPowerset  0.574798"
      ]
     },
     "execution_count": 132,
     "metadata": {},
     "output_type": "execute_result"
    }
   ],
   "source": [
    "pd.DataFrame(f1_score_dict.items(), columns=[\"Classifier + Sample Type\", \"F1_Score\"])"
   ]
  },
  {
   "cell_type": "code",
   "execution_count": 133,
   "id": "e5a51374",
   "metadata": {},
   "outputs": [
    {
     "data": {
      "text/html": [
       "<div>\n",
       "<style scoped>\n",
       "    .dataframe tbody tr th:only-of-type {\n",
       "        vertical-align: middle;\n",
       "    }\n",
       "\n",
       "    .dataframe tbody tr th {\n",
       "        vertical-align: top;\n",
       "    }\n",
       "\n",
       "    .dataframe thead th {\n",
       "        text-align: right;\n",
       "    }\n",
       "</style>\n",
       "<table border=\"1\" class=\"dataframe\">\n",
       "  <thead>\n",
       "    <tr style=\"text-align: right;\">\n",
       "      <th></th>\n",
       "      <th>Classifier + Sample Type</th>\n",
       "      <th>Accuracy_Score</th>\n",
       "    </tr>\n",
       "  </thead>\n",
       "  <tbody>\n",
       "    <tr>\n",
       "      <th>0</th>\n",
       "      <td>OneVsRest</td>\n",
       "      <td>0.185547</td>\n",
       "    </tr>\n",
       "    <tr>\n",
       "      <th>1</th>\n",
       "      <td>BinaryRelevance</td>\n",
       "      <td>0.218099</td>\n",
       "    </tr>\n",
       "    <tr>\n",
       "      <th>2</th>\n",
       "      <td>ClassifierChains</td>\n",
       "      <td>0.270833</td>\n",
       "    </tr>\n",
       "    <tr>\n",
       "      <th>3</th>\n",
       "      <td>LabelPowerset</td>\n",
       "      <td>0.339193</td>\n",
       "    </tr>\n",
       "  </tbody>\n",
       "</table>\n",
       "</div>"
      ],
      "text/plain": [
       "  Classifier + Sample Type  Accuracy_Score\n",
       "0                OneVsRest        0.185547\n",
       "1          BinaryRelevance        0.218099\n",
       "2         ClassifierChains        0.270833\n",
       "3            LabelPowerset        0.339193"
      ]
     },
     "execution_count": 133,
     "metadata": {},
     "output_type": "execute_result"
    }
   ],
   "source": [
    "pd.DataFrame(accuracy_score_dict.items(), columns=[\"Classifier + Sample Type\", \"Accuracy_Score\"])"
   ]
  }
 ],
 "metadata": {
  "kernelspec": {
   "display_name": "Python 3 (ipykernel)",
   "language": "python",
   "name": "python3"
  },
  "language_info": {
   "codemirror_mode": {
    "name": "ipython",
    "version": 3
   },
   "file_extension": ".py",
   "mimetype": "text/x-python",
   "name": "python",
   "nbconvert_exporter": "python",
   "pygments_lexer": "ipython3",
   "version": "3.9.12"
  }
 },
 "nbformat": 4,
 "nbformat_minor": 5
}
