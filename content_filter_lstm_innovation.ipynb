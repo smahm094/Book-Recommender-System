{
 "cells": [
  {
   "cell_type": "code",
   "execution_count": 10,
   "metadata": {
    "id": "XX0YrPIUx_R5"
   },
   "outputs": [],
   "source": [
    "from numpy import array\n",
    "from keras.preprocessing.text import one_hot\n",
    "from keras.preprocessing.sequence import pad_sequences\n",
    "from keras.models import Sequential\n",
    "from keras.layers.core import Activation, Dropout, Dense\n",
    "from keras.layers import Flatten, LSTM\n",
    "from keras.layers import GlobalMaxPooling1D\n",
    "from keras.models import Model\n",
    "from keras.layers.embeddings import Embedding\n",
    "from sklearn.model_selection import train_test_split\n",
    "from keras.preprocessing.text import Tokenizer\n",
    "from keras.layers import Input\n",
    "from keras.layers.merge import Concatenate\n",
    "\n",
    "import pandas as pd\n",
    "import numpy as np\n",
    "import re\n",
    "\n",
    "import matplotlib.pyplot as plt"
   ]
  },
  {
   "cell_type": "code",
   "execution_count": 1,
   "metadata": {
    "colab": {
     "base_uri": "https://localhost:8080/"
    },
    "id": "WYSmfLEQJ9JA",
    "outputId": "6f00eb12-d344-4dab-cf19-efbe4e055bef"
   },
   "outputs": [
    {
     "name": "stdout",
     "output_type": "stream",
     "text": [
      "--2022-07-18 18:03:49--  http://nlp.stanford.edu/data/glove.6B.zip\n",
      "Resolving nlp.stanford.edu (nlp.stanford.edu)... 171.64.67.140\n",
      "Connecting to nlp.stanford.edu (nlp.stanford.edu)|171.64.67.140|:80... connected.\n",
      "HTTP request sent, awaiting response... 302 Found\n",
      "Location: https://nlp.stanford.edu/data/glove.6B.zip [following]\n",
      "--2022-07-18 18:03:50--  https://nlp.stanford.edu/data/glove.6B.zip\n",
      "Connecting to nlp.stanford.edu (nlp.stanford.edu)|171.64.67.140|:443... connected.\n",
      "HTTP request sent, awaiting response... 301 Moved Permanently\n",
      "Location: https://downloads.cs.stanford.edu/nlp/data/glove.6B.zip [following]\n",
      "--2022-07-18 18:03:50--  https://downloads.cs.stanford.edu/nlp/data/glove.6B.zip\n",
      "Resolving downloads.cs.stanford.edu (downloads.cs.stanford.edu)... 171.64.64.22\n",
      "Connecting to downloads.cs.stanford.edu (downloads.cs.stanford.edu)|171.64.64.22|:443... connected.\n",
      "HTTP request sent, awaiting response... 200 OK\n",
      "Length: 862182613 (822M) [application/zip]\n",
      "Saving to: ‘glove.6B.zip’\n",
      "\n",
      "glove.6B.zip        100%[===================>] 822.24M  5.11MB/s    in 2m 39s  \n",
      "\n",
      "2022-07-18 18:06:29 (5.16 MB/s) - ‘glove.6B.zip’ saved [862182613/862182613]\n",
      "\n"
     ]
    }
   ],
   "source": [
    "!wget http://nlp.stanford.edu/data/glove.6B.zip"
   ]
  },
  {
   "cell_type": "code",
   "execution_count": 2,
   "metadata": {
    "colab": {
     "base_uri": "https://localhost:8080/"
    },
    "id": "W3NOP_mUKFOv",
    "outputId": "1a2343bc-252a-440b-a6ec-1aefb0cdd63f"
   },
   "outputs": [
    {
     "name": "stdout",
     "output_type": "stream",
     "text": [
      "Archive:  glove.6B.zip\n",
      "  inflating: glove.6B.50d.txt        \n",
      "  inflating: glove.6B.100d.txt       \n",
      "  inflating: glove.6B.200d.txt       \n",
      "  inflating: glove.6B.300d.txt       \n"
     ]
    }
   ],
   "source": [
    "!unzip glove*.zip"
   ]
  },
  {
   "cell_type": "code",
   "execution_count": 81,
   "metadata": {
    "colab": {
     "base_uri": "https://localhost:8080/",
     "height": 424
    },
    "id": "QOerPSXVyGby",
    "outputId": "530721ff-9eb5-42f8-b179-226f4e43ce17"
   },
   "outputs": [
    {
     "data": {
      "text/html": [
       "\n",
       "  <div id=\"df-118a4e04-9981-4a8d-8eed-58398a2c9248\">\n",
       "    <div class=\"colab-df-container\">\n",
       "      <div>\n",
       "<style scoped>\n",
       "    .dataframe tbody tr th:only-of-type {\n",
       "        vertical-align: middle;\n",
       "    }\n",
       "\n",
       "    .dataframe tbody tr th {\n",
       "        vertical-align: top;\n",
       "    }\n",
       "\n",
       "    .dataframe thead th {\n",
       "        text-align: right;\n",
       "    }\n",
       "</style>\n",
       "<table border=\"1\" class=\"dataframe\">\n",
       "  <thead>\n",
       "    <tr style=\"text-align: right;\">\n",
       "      <th></th>\n",
       "      <th>Unnamed: 0</th>\n",
       "      <th>book_name</th>\n",
       "      <th>cleaned_text</th>\n",
       "      <th>cleaned_text_length</th>\n",
       "      <th>cleaned_genre</th>\n",
       "    </tr>\n",
       "  </thead>\n",
       "  <tbody>\n",
       "    <tr>\n",
       "      <th>0</th>\n",
       "      <td>8</td>\n",
       "      <td>Blade Runner 3: Replicant Night</td>\n",
       "      <td>['living', 'mar', 'deckard', 'acting', 'consul...</td>\n",
       "      <td>27</td>\n",
       "      <td>['Science Fiction', 'Speculative fiction']</td>\n",
       "    </tr>\n",
       "    <tr>\n",
       "      <th>1</th>\n",
       "      <td>9</td>\n",
       "      <td>Blade Runner 2: The Edge of Human</td>\n",
       "      <td>['beginning', 'several', 'month', 'event', 'bl...</td>\n",
       "      <td>163</td>\n",
       "      <td>['Science Fiction', 'Speculative fiction']</td>\n",
       "    </tr>\n",
       "    <tr>\n",
       "      <th>2</th>\n",
       "      <td>20</td>\n",
       "      <td>Crash</td>\n",
       "      <td>['story', 'told', 'eye', 'narrator', 'james', ...</td>\n",
       "      <td>55</td>\n",
       "      <td>['Novel', 'Speculative fiction', 'Fiction']</td>\n",
       "    </tr>\n",
       "    <tr>\n",
       "      <th>3</th>\n",
       "      <td>25</td>\n",
       "      <td>The Cider House Rules</td>\n",
       "      <td>['homer', 'well', 'grows', 'orphanage', 'spend...</td>\n",
       "      <td>293</td>\n",
       "      <td>['Fiction']</td>\n",
       "    </tr>\n",
       "    <tr>\n",
       "      <th>4</th>\n",
       "      <td>31</td>\n",
       "      <td>Death of a Hero</td>\n",
       "      <td>['death', 'hero', 'story', 'young', 'english',...</td>\n",
       "      <td>194</td>\n",
       "      <td>['Fiction']</td>\n",
       "    </tr>\n",
       "    <tr>\n",
       "      <th>...</th>\n",
       "      <td>...</td>\n",
       "      <td>...</td>\n",
       "      <td>...</td>\n",
       "      <td>...</td>\n",
       "      <td>...</td>\n",
       "    </tr>\n",
       "    <tr>\n",
       "      <th>7672</th>\n",
       "      <td>16544</td>\n",
       "      <td>Heaven</td>\n",
       "      <td>['heaven', 'leigh', 'casteel', 'fourteen', 'ye...</td>\n",
       "      <td>655</td>\n",
       "      <td>['Fiction']</td>\n",
       "    </tr>\n",
       "    <tr>\n",
       "      <th>7673</th>\n",
       "      <td>16549</td>\n",
       "      <td>The Third Lynx</td>\n",
       "      <td>['story', 'start', 'former', 'government', 'ag...</td>\n",
       "      <td>85</td>\n",
       "      <td>['Science Fiction']</td>\n",
       "    </tr>\n",
       "    <tr>\n",
       "      <th>7674</th>\n",
       "      <td>16551</td>\n",
       "      <td>Remote Control</td>\n",
       "      <td>['series', 'follows', 'character', 'nick', 'st...</td>\n",
       "      <td>34</td>\n",
       "      <td>['Fiction']</td>\n",
       "    </tr>\n",
       "    <tr>\n",
       "      <th>7675</th>\n",
       "      <td>16555</td>\n",
       "      <td>Transfer of Power</td>\n",
       "      <td>['reader', 'first', 'meet', 'rapp', 'covert', ...</td>\n",
       "      <td>114</td>\n",
       "      <td>['Fiction']</td>\n",
       "    </tr>\n",
       "    <tr>\n",
       "      <th>7676</th>\n",
       "      <td>16558</td>\n",
       "      <td>Poor Folk</td>\n",
       "      <td>['makar', 'devushkin', 'varvara', 'dobroselova...</td>\n",
       "      <td>323</td>\n",
       "      <td>['Speculative fiction']</td>\n",
       "    </tr>\n",
       "  </tbody>\n",
       "</table>\n",
       "<p>7677 rows × 5 columns</p>\n",
       "</div>\n",
       "      <button class=\"colab-df-convert\" onclick=\"convertToInteractive('df-118a4e04-9981-4a8d-8eed-58398a2c9248')\"\n",
       "              title=\"Convert this dataframe to an interactive table.\"\n",
       "              style=\"display:none;\">\n",
       "        \n",
       "  <svg xmlns=\"http://www.w3.org/2000/svg\" height=\"24px\"viewBox=\"0 0 24 24\"\n",
       "       width=\"24px\">\n",
       "    <path d=\"M0 0h24v24H0V0z\" fill=\"none\"/>\n",
       "    <path d=\"M18.56 5.44l.94 2.06.94-2.06 2.06-.94-2.06-.94-.94-2.06-.94 2.06-2.06.94zm-11 1L8.5 8.5l.94-2.06 2.06-.94-2.06-.94L8.5 2.5l-.94 2.06-2.06.94zm10 10l.94 2.06.94-2.06 2.06-.94-2.06-.94-.94-2.06-.94 2.06-2.06.94z\"/><path d=\"M17.41 7.96l-1.37-1.37c-.4-.4-.92-.59-1.43-.59-.52 0-1.04.2-1.43.59L10.3 9.45l-7.72 7.72c-.78.78-.78 2.05 0 2.83L4 21.41c.39.39.9.59 1.41.59.51 0 1.02-.2 1.41-.59l7.78-7.78 2.81-2.81c.8-.78.8-2.07 0-2.86zM5.41 20L4 18.59l7.72-7.72 1.47 1.35L5.41 20z\"/>\n",
       "  </svg>\n",
       "      </button>\n",
       "      \n",
       "  <style>\n",
       "    .colab-df-container {\n",
       "      display:flex;\n",
       "      flex-wrap:wrap;\n",
       "      gap: 12px;\n",
       "    }\n",
       "\n",
       "    .colab-df-convert {\n",
       "      background-color: #E8F0FE;\n",
       "      border: none;\n",
       "      border-radius: 50%;\n",
       "      cursor: pointer;\n",
       "      display: none;\n",
       "      fill: #1967D2;\n",
       "      height: 32px;\n",
       "      padding: 0 0 0 0;\n",
       "      width: 32px;\n",
       "    }\n",
       "\n",
       "    .colab-df-convert:hover {\n",
       "      background-color: #E2EBFA;\n",
       "      box-shadow: 0px 1px 2px rgba(60, 64, 67, 0.3), 0px 1px 3px 1px rgba(60, 64, 67, 0.15);\n",
       "      fill: #174EA6;\n",
       "    }\n",
       "\n",
       "    [theme=dark] .colab-df-convert {\n",
       "      background-color: #3B4455;\n",
       "      fill: #D2E3FC;\n",
       "    }\n",
       "\n",
       "    [theme=dark] .colab-df-convert:hover {\n",
       "      background-color: #434B5C;\n",
       "      box-shadow: 0px 1px 3px 1px rgba(0, 0, 0, 0.15);\n",
       "      filter: drop-shadow(0px 1px 2px rgba(0, 0, 0, 0.3));\n",
       "      fill: #FFFFFF;\n",
       "    }\n",
       "  </style>\n",
       "\n",
       "      <script>\n",
       "        const buttonEl =\n",
       "          document.querySelector('#df-118a4e04-9981-4a8d-8eed-58398a2c9248 button.colab-df-convert');\n",
       "        buttonEl.style.display =\n",
       "          google.colab.kernel.accessAllowed ? 'block' : 'none';\n",
       "\n",
       "        async function convertToInteractive(key) {\n",
       "          const element = document.querySelector('#df-118a4e04-9981-4a8d-8eed-58398a2c9248');\n",
       "          const dataTable =\n",
       "            await google.colab.kernel.invokeFunction('convertToInteractive',\n",
       "                                                     [key], {});\n",
       "          if (!dataTable) return;\n",
       "\n",
       "          const docLinkHtml = 'Like what you see? Visit the ' +\n",
       "            '<a target=\"_blank\" href=https://colab.research.google.com/notebooks/data_table.ipynb>data table notebook</a>'\n",
       "            + ' to learn more about interactive tables.';\n",
       "          element.innerHTML = '';\n",
       "          dataTable['output_type'] = 'display_data';\n",
       "          await google.colab.output.renderOutput(dataTable, element);\n",
       "          const docLink = document.createElement('div');\n",
       "          docLink.innerHTML = docLinkHtml;\n",
       "          element.appendChild(docLink);\n",
       "        }\n",
       "      </script>\n",
       "    </div>\n",
       "  </div>\n",
       "  "
      ],
      "text/plain": [
       "      Unnamed: 0                          book_name  \\\n",
       "0              8    Blade Runner 3: Replicant Night   \n",
       "1              9  Blade Runner 2: The Edge of Human   \n",
       "2             20                              Crash   \n",
       "3             25              The Cider House Rules   \n",
       "4             31                    Death of a Hero   \n",
       "...          ...                                ...   \n",
       "7672       16544                             Heaven   \n",
       "7673       16549                     The Third Lynx   \n",
       "7674       16551                     Remote Control   \n",
       "7675       16555                  Transfer of Power   \n",
       "7676       16558                          Poor Folk   \n",
       "\n",
       "                                           cleaned_text  cleaned_text_length  \\\n",
       "0     ['living', 'mar', 'deckard', 'acting', 'consul...                   27   \n",
       "1     ['beginning', 'several', 'month', 'event', 'bl...                  163   \n",
       "2     ['story', 'told', 'eye', 'narrator', 'james', ...                   55   \n",
       "3     ['homer', 'well', 'grows', 'orphanage', 'spend...                  293   \n",
       "4     ['death', 'hero', 'story', 'young', 'english',...                  194   \n",
       "...                                                 ...                  ...   \n",
       "7672  ['heaven', 'leigh', 'casteel', 'fourteen', 'ye...                  655   \n",
       "7673  ['story', 'start', 'former', 'government', 'ag...                   85   \n",
       "7674  ['series', 'follows', 'character', 'nick', 'st...                   34   \n",
       "7675  ['reader', 'first', 'meet', 'rapp', 'covert', ...                  114   \n",
       "7676  ['makar', 'devushkin', 'varvara', 'dobroselova...                  323   \n",
       "\n",
       "                                    cleaned_genre  \n",
       "0      ['Science Fiction', 'Speculative fiction']  \n",
       "1      ['Science Fiction', 'Speculative fiction']  \n",
       "2     ['Novel', 'Speculative fiction', 'Fiction']  \n",
       "3                                     ['Fiction']  \n",
       "4                                     ['Fiction']  \n",
       "...                                           ...  \n",
       "7672                                  ['Fiction']  \n",
       "7673                          ['Science Fiction']  \n",
       "7674                                  ['Fiction']  \n",
       "7675                                  ['Fiction']  \n",
       "7676                      ['Speculative fiction']  \n",
       "\n",
       "[7677 rows x 5 columns]"
      ]
     },
     "execution_count": 81,
     "metadata": {},
     "output_type": "execute_result"
    }
   ],
   "source": [
    "import pandas as pd\n",
    "\n",
    "df = pd.DataFrame()\n",
    "df = pd.read_csv('new_books_summary.csv')\n",
    "df"
   ]
  },
  {
   "cell_type": "code",
   "execution_count": 82,
   "metadata": {
    "colab": {
     "base_uri": "https://localhost:8080/"
    },
    "id": "hpRAwRaMyvNZ",
    "outputId": "4f70de3b-f922-4c9a-cb07-07ddbb0a38ba"
   },
   "outputs": [
    {
     "data": {
      "text/plain": [
       "0       None\n",
       "1       None\n",
       "2       None\n",
       "3       None\n",
       "4       None\n",
       "        ... \n",
       "7672    None\n",
       "7673    None\n",
       "7674    None\n",
       "7675    None\n",
       "7676    None\n",
       "Name: cleaned_genre, Length: 7677, dtype: object"
      ]
     },
     "execution_count": 82,
     "metadata": {},
     "output_type": "execute_result"
    }
   ],
   "source": [
    "def loop_list(original_list):\n",
    "    new_list = []\n",
    "#     print(original_list)\n",
    "    for item in original_list:\n",
    "        new_list.append(item.strip())\n",
    "    return new_list\n",
    "df['cleaned_text'] = df['cleaned_text'].apply(lambda x:x.replace(\"[\",'').replace(']','').replace(\"\\\"\",'').replace('\\'','').split(','))\n",
    "df['cleaned_text'] = df['cleaned_text'].apply(lambda x:\"\".join(x))\n",
    "df['cleaned_genre'] = df['cleaned_genre'].apply(lambda x:x.replace(\"[\",'').replace(']','').replace(\"\\\"\",'').replace('\\'','').split(','))\n",
    "df['cleaned_genre'] = df['cleaned_genre'].apply(lambda x:loop_list(x))\n",
    "labels_list = []\n",
    "df['cleaned_genre'].apply(lambda x:labels_list.extend(x))"
   ]
  },
  {
   "cell_type": "code",
   "execution_count": 21,
   "metadata": {
    "colab": {
     "base_uri": "https://localhost:8080/",
     "height": 877
    },
    "id": "wK4MQ_bQXEdo",
    "outputId": "4e47e099-0f75-4dec-f7fb-ae909c758ad2"
   },
   "outputs": [
    {
     "data": {
      "image/png": "[encoded data removed]",
      "text/plain": [
       "<Figure size 864x1080 with 1 Axes>"
      ]
     },
     "metadata": {
      "needs_background": "light"
     },
     "output_type": "display_data"
    }
   ],
   "source": [
    "# import nltk\n",
    "# import seaborn as sns\n",
    "# def freq_words(x, terms = 30): \n",
    "#     all_words = ' '.join([text for text in x]) \n",
    "#     all_words = all_words.split() \n",
    "#     fdist = nltk.FreqDist(all_words) \n",
    "#     words_df = pd.DataFrame({'word':list(fdist.keys()), 'count':list(fdist.values())}) \n",
    "\n",
    "#     # selecting top 20 most frequent words \n",
    "#     d = words_df.nlargest(columns=\"count\", n = terms) \n",
    "\n",
    "#     # visualize words and frequencies\n",
    "#     plt.figure(figsize=(12,15)) \n",
    "#     ax = sns.barplot(data=d, x= \"count\", y = \"word\") \n",
    "#     ax.set(ylabel = 'Word') \n",
    "#     plt.show()\n",
    "# freq_words(df['cleaned_text'][df['cleaned_text_length'].apply(lambda x:x<10)],30)\n",
    "# new_stop_words = ['outline','description','book','plot']\n",
    "# def loop_common_type(origin_list,target_list):\n",
    "#     removed_list = []\n",
    "#     for item in origin_list:\n",
    "#         if item in target_list:\n",
    "#             removed_list.append(item)\n",
    "#     cleaned_list = list(set(origin_list)-set(removed_list))\n",
    "#     return cleaned_list\n",
    "\n",
    "# df['cleaned_text'] = df['cleaned_text'].apply(lambda x:loop_common_type(x,new_stop_words))"
   ]
  },
  {
   "cell_type": "code",
   "execution_count": 83,
   "metadata": {
    "colab": {
     "base_uri": "https://localhost:8080/"
    },
    "id": "dvM_7GxDgcHB",
    "outputId": "879639cd-d0bc-4994-a100-a2825f97904c"
   },
   "outputs": [
    {
     "data": {
      "text/plain": [
       "0       living mar deckard acting consultant movie cre...\n",
       "1       beginning several month event blade runner dec...\n",
       "2       story told eye narrator james ballard named au...\n",
       "3       homer well grows orphanage spends childhood us...\n",
       "4       death hero story young english artist named ge...\n",
       "                              ...                        \n",
       "7672    heaven leigh casteel fourteen year old girl li...\n",
       "7673    story start former government agent frank comp...\n",
       "7674    series follows character nick stone man previo...\n",
       "7675    reader first meet rapp covert operation iran d...\n",
       "7676    makar devushkin varvara dobroselova second cou...\n",
       "Name: cleaned_text, Length: 7677, dtype: object"
      ]
     },
     "execution_count": 83,
     "metadata": {},
     "output_type": "execute_result"
    }
   ],
   "source": [
    "df['cleaned_text']"
   ]
  },
  {
   "cell_type": "code",
   "execution_count": 84,
   "metadata": {
    "colab": {
     "base_uri": "https://localhost:8080/"
    },
    "id": "QNWQoTJ38ws9",
    "outputId": "b071c050-6128-44f8-a910-fb692ad1bfa9"
   },
   "outputs": [
    {
     "data": {
      "text/plain": [
       "{'Childrens literature',\n",
       " 'Fantasy',\n",
       " 'Fiction',\n",
       " 'Novel',\n",
       " 'Science Fiction',\n",
       " 'Speculative fiction'}"
      ]
     },
     "execution_count": 84,
     "metadata": {},
     "output_type": "execute_result"
    }
   ],
   "source": [
    "labels_list = set(labels_list)\n",
    "labels_list"
   ]
  },
  {
   "cell_type": "code",
   "execution_count": 85,
   "metadata": {
    "id": "9bZao1WBIjbP"
   },
   "outputs": [],
   "source": [
    "x = []\n",
    "sentences = list(df[\"cleaned_text\"])\n",
    "for sen in sentences:\n",
    "    x.append(sen)\n",
    "\n",
    "#One hot encoding. I just found an easy way to do that. Do not need that another process\n",
    "from sklearn.preprocessing import MultiLabelBinarizer\n",
    "\n",
    "multilabel_binarizer = MultiLabelBinarizer()\n",
    "multilabel_binarizer.fit(df['cleaned_genre'])\n",
    "\n",
    "# transform target variable\n",
    "y = multilabel_binarizer.transform(df['cleaned_genre'])"
   ]
  },
  {
   "cell_type": "code",
   "execution_count": 86,
   "metadata": {
    "colab": {
     "base_uri": "https://localhost:8080/"
    },
    "id": "tOcKW07sMnz2",
    "outputId": "2c72e619-d3d2-406c-f99a-5c67cf5c0b65"
   },
   "outputs": [
    {
     "name": "stdout",
     "output_type": "stream",
     "text": [
      "story told eye narrator james ballard named author center sinister figure robert vaughan former turned nightmare angel expressway ballard meet vaughan involved car accident near london airport gathering around vaughan group alienated people former follow pursuit crash celebrity experience narrator call new sexuality born perverse technology vaughan ultimate fantasy die collision movie star elizabeth taylor\n",
      "[0 0 1 1 0 1]\n"
     ]
    }
   ],
   "source": [
    "print(x[2])\n",
    "print(y[2])"
   ]
  },
  {
   "cell_type": "code",
   "execution_count": 87,
   "metadata": {
    "id": "AXRnUYezy0SR"
   },
   "outputs": [],
   "source": [
    "from sklearn.model_selection import train_test_split\n",
    "X_train, X_test, y_train, y_test = train_test_split(x, y, test_size=0.10, random_state=42)\n",
    "tokenizer = Tokenizer(num_words=5000)\n",
    "tokenizer.fit_on_texts(X_train)\n",
    "\n",
    "X_train = tokenizer.texts_to_sequences(X_train)\n",
    "X_test = tokenizer.texts_to_sequences(X_test)\n",
    "\n",
    "vocab_size = len(tokenizer.word_index) + 1\n",
    "\n",
    "maxlen = 50\n",
    "\n",
    "X_train = pad_sequences(X_train, padding='post', maxlen=maxlen)\n",
    "X_test = pad_sequences(X_test, padding='post', maxlen=maxlen)"
   ]
  },
  {
   "cell_type": "code",
   "execution_count": 88,
   "metadata": {
    "id": "S3ZF-sCEP6Bo"
   },
   "outputs": [],
   "source": [
    "from numpy import array\n",
    "from numpy import asarray\n",
    "from numpy import zeros\n",
    "\n",
    "embeddings_dictionary = dict()\n",
    "\n",
    "glove_file = open('glove.6B.50d.txt', encoding=\"utf8\")\n",
    "\n",
    "for line in glove_file:\n",
    "    records = line.split()\n",
    "    word = records[0]\n",
    "    vector_dimensions = asarray(records[1:], dtype='float32')\n",
    "    embeddings_dictionary[word] = vector_dimensions\n",
    "glove_file.close()\n",
    "\n",
    "embedding_matrix = zeros((vocab_size, 50))\n",
    "for word, index in tokenizer.word_index.items():\n",
    "    embedding_vector = embeddings_dictionary.get(word)\n",
    "    if embedding_vector is not None:\n",
    "        embedding_matrix[index] = embedding_vector"
   ]
  },
  {
   "cell_type": "code",
   "execution_count": 89,
   "metadata": {
    "id": "2WUlkGrGy2Lt"
   },
   "outputs": [],
   "source": [
    "deep_inputs = Input(shape=(maxlen,))\n",
    "embedding_layer = Embedding(vocab_size, 50, weights=[embedding_matrix], trainable=False)(deep_inputs)\n",
    "LSTM_Layer_1 = LSTM(128)(embedding_layer)\n",
    "# LSTM_Layer_2 = LSTM(128)(LSTM_Layer_1)\n",
    "dense_layer_1 = Dense(6, activation='sigmoid')(LSTM_Layer_1)\n",
    "model = Model(inputs=deep_inputs, outputs=dense_layer_1)\n",
    "\n",
    "model.compile(loss='binary_crossentropy', optimizer='adam', metrics=['acc'])"
   ]
  },
  {
   "cell_type": "code",
   "execution_count": 90,
   "metadata": {
    "colab": {
     "base_uri": "https://localhost:8080/"
    },
    "id": "Jvhqzs9Yy3fo",
    "outputId": "014366b0-36e6-4d2c-f119-3b218005f3e4"
   },
   "outputs": [
    {
     "name": "stdout",
     "output_type": "stream",
     "text": [
      "Model: \"model_3\"\n",
      "_________________________________________________________________\n",
      " Layer (type)                Output Shape              Param #   \n",
      "=================================================================\n",
      " input_4 (InputLayer)        [(None, 50)]              0         \n",
      "                                                                 \n",
      " embedding_3 (Embedding)     (None, 50, 50)            3295300   \n",
      "                                                                 \n",
      " lstm_3 (LSTM)               (None, 128)               91648     \n",
      "                                                                 \n",
      " dense_3 (Dense)             (None, 6)                 774       \n",
      "                                                                 \n",
      "=================================================================\n",
      "Total params: 3,387,722\n",
      "Trainable params: 92,422\n",
      "Non-trainable params: 3,295,300\n",
      "_________________________________________________________________\n",
      "None\n"
     ]
    }
   ],
   "source": [
    "print(model.summary())"
   ]
  },
  {
   "cell_type": "code",
   "execution_count": 91,
   "metadata": {
    "colab": {
     "base_uri": "https://localhost:8080/",
     "height": 422
    },
    "id": "fe_D7pnFy415",
    "outputId": "f4dcb9bd-8d26-4d8b-9b32-07ad123e8a28"
   },
   "outputs": [
    {
     "data": {
      "image/png": "[encoded data removed]",
      "text/plain": [
       "<IPython.core.display.Image object>"
      ]
     },
     "execution_count": 91,
     "metadata": {},
     "output_type": "execute_result"
    }
   ],
   "source": [
    "import tensorflow as tf\n",
    "tf.keras.utils.plot_model(model, to_file='model_plot4a.png', show_shapes=True, show_layer_names=True)"
   ]
  },
  {
   "cell_type": "code",
   "execution_count": 92,
   "metadata": {
    "colab": {
     "base_uri": "https://localhost:8080/",
     "height": 369
    },
    "id": "0y-Jb7nWy6Og",
    "outputId": "19142982-1c16-45bc-8d39-b1ac6f652296"
   },
   "outputs": [
    {
     "data": {
      "image/png": "[encoded data removed]",
      "text/plain": [
       "<IPython.core.display.Image object>"
      ]
     },
     "execution_count": 92,
     "metadata": {},
     "output_type": "execute_result"
    }
   ],
   "source": [
    "import tensorflow as tf\n",
    "tf.keras.utils.plot_model(model)"
   ]
  },
  {
   "cell_type": "code",
   "execution_count": 93,
   "metadata": {
    "colab": {
     "base_uri": "https://localhost:8080/"
    },
    "id": "I9MDCIIbzA5K",
    "outputId": "c34dcc12-8956-4c01-e7a9-2f88201f7d11"
   },
   "outputs": [
    {
     "name": "stdout",
     "output_type": "stream",
     "text": [
      "Epoch 1/20\n",
      "108/108 [==============================] - 13s 100ms/step - loss: 0.5321 - acc: 0.2109 - val_loss: 0.4945 - val_acc: 0.2760\n",
      "Epoch 2/20\n",
      "108/108 [==============================] - 10s 95ms/step - loss: 0.4832 - acc: 0.3471 - val_loss: 0.4812 - val_acc: 0.3776\n",
      "Epoch 3/20\n",
      "108/108 [==============================] - 10s 94ms/step - loss: 0.4590 - acc: 0.3976 - val_loss: 0.4615 - val_acc: 0.4167\n",
      "Epoch 4/20\n",
      "108/108 [==============================] - 10s 94ms/step - loss: 0.4509 - acc: 0.4137 - val_loss: 0.4530 - val_acc: 0.4271\n",
      "Epoch 5/20\n",
      "108/108 [==============================] - 10s 94ms/step - loss: 0.4405 - acc: 0.4276 - val_loss: 0.4469 - val_acc: 0.4297\n",
      "Epoch 6/20\n",
      "108/108 [==============================] - 10s 95ms/step - loss: 0.4363 - acc: 0.4289 - val_loss: 0.4481 - val_acc: 0.4271\n",
      "Epoch 7/20\n",
      "108/108 [==============================] - 10s 95ms/step - loss: 0.4293 - acc: 0.4345 - val_loss: 0.4476 - val_acc: 0.4401\n",
      "Epoch 8/20\n",
      "108/108 [==============================] - 10s 94ms/step - loss: 0.4268 - acc: 0.4459 - val_loss: 0.4488 - val_acc: 0.4570\n",
      "Epoch 9/20\n",
      "108/108 [==============================] - 10s 94ms/step - loss: 0.4208 - acc: 0.4481 - val_loss: 0.4488 - val_acc: 0.4336\n",
      "Epoch 10/20\n",
      "108/108 [==============================] - 10s 94ms/step - loss: 0.4151 - acc: 0.4535 - val_loss: 0.4468 - val_acc: 0.4570\n",
      "Epoch 11/20\n",
      "108/108 [==============================] - 11s 104ms/step - loss: 0.4102 - acc: 0.4636 - val_loss: 0.4488 - val_acc: 0.4401\n",
      "Epoch 12/20\n",
      "108/108 [==============================] - 10s 93ms/step - loss: 0.4032 - acc: 0.4759 - val_loss: 0.4574 - val_acc: 0.4271\n",
      "Epoch 13/20\n",
      "108/108 [==============================] - 10s 94ms/step - loss: 0.3980 - acc: 0.4794 - val_loss: 0.4482 - val_acc: 0.4323\n",
      "Epoch 14/20\n",
      "108/108 [==============================] - 10s 95ms/step - loss: 0.3929 - acc: 0.4930 - val_loss: 0.4577 - val_acc: 0.4010\n",
      "Epoch 15/20\n",
      "108/108 [==============================] - 10s 94ms/step - loss: 0.3839 - acc: 0.5005 - val_loss: 0.4571 - val_acc: 0.4401\n",
      "Epoch 16/20\n",
      "108/108 [==============================] - 10s 95ms/step - loss: 0.3786 - acc: 0.5037 - val_loss: 0.4588 - val_acc: 0.4323\n",
      "Epoch 17/20\n",
      "108/108 [==============================] - 10s 96ms/step - loss: 0.3681 - acc: 0.5263 - val_loss: 0.4599 - val_acc: 0.4206\n",
      "Epoch 18/20\n",
      "108/108 [==============================] - 10s 96ms/step - loss: 0.3586 - acc: 0.5433 - val_loss: 0.4744 - val_acc: 0.4583\n",
      "Epoch 19/20\n",
      "108/108 [==============================] - 10s 95ms/step - loss: 0.3498 - acc: 0.5468 - val_loss: 0.4780 - val_acc: 0.4115\n",
      "Epoch 20/20\n",
      "108/108 [==============================] - 10s 94ms/step - loss: 0.3399 - acc: 0.5661 - val_loss: 0.4757 - val_acc: 0.4180\n",
      "Epoch 20: early stopping\n"
     ]
    }
   ],
   "source": [
    "from keras.callbacks import EarlyStopping\n",
    "earlystop = EarlyStopping(monitor='val_loss',min_delta=0,patience=10,verbose=1)\n",
    "history = model.fit(X_train, y_train, batch_size=64, epochs=20,validation_data=(X_test,y_test),callbacks=earlystop)"
   ]
  },
  {
   "cell_type": "code",
   "execution_count": 94,
   "metadata": {
    "colab": {
     "base_uri": "https://localhost:8080/"
    },
    "id": "O1BTyYjbzR7w",
    "outputId": "7a61ff4b-5d56-4f01-8a8b-5ad8c42fcca3"
   },
   "outputs": [
    {
     "name": "stdout",
     "output_type": "stream",
     "text": [
      "24/24 [==============================] - 1s 20ms/step - loss: 0.4757 - acc: 0.4180\n",
      "Test Score: 0.47573015093803406\n",
      "Test Accuracy: 0.41796875\n"
     ]
    }
   ],
   "source": [
    "score = model.evaluate(X_test, y_test, verbose=1)\n",
    "\n",
    "print(\"Test Score:\", score[0])\n",
    "print(\"Test Accuracy:\", score[1])"
   ]
  },
  {
   "cell_type": "code",
   "execution_count": 95,
   "metadata": {
    "colab": {
     "base_uri": "https://localhost:8080/",
     "height": 573
    },
    "id": "w-Ix4t7cZMYH",
    "outputId": "b5ca0168-2e08-495e-9919-4c5295ff21ca"
   },
   "outputs": [
    {
     "data": {
      "image/png": "[encoded data removed]",
      "text/plain": [
       "<Figure size 432x288 with 1 Axes>"
      ]
     },
     "metadata": {
      "needs_background": "light"
     },
     "output_type": "display_data"
    },
    {
     "data": {
      "image/png": "[encoded data removed]",
      "text/plain": [
       "<Figure size 432x288 with 1 Axes>"
      ]
     },
     "metadata": {
      "needs_background": "light"
     },
     "output_type": "display_data"
    }
   ],
   "source": [
    "import matplotlib.pyplot as plt\n",
    "\n",
    "plt.plot(history.history['acc'])\n",
    "plt.plot(history.history['val_acc'])\n",
    "\n",
    "plt.title('model accuracy')\n",
    "plt.ylabel('accuracy')\n",
    "plt.xlabel('epoch')\n",
    "plt.legend(['train','test'], loc='upper left')\n",
    "plt.show()\n",
    "\n",
    "plt.plot(history.history['loss'])\n",
    "plt.plot(history.history['val_loss'])\n",
    "\n",
    "plt.title('model loss')\n",
    "plt.ylabel('loss')\n",
    "plt.xlabel('epoch')\n",
    "plt.legend(['train','test'], loc='upper left')\n",
    "plt.show()"
   ]
  },
  {
   "cell_type": "code",
   "execution_count": 97,
   "metadata": {
    "colab": {
     "base_uri": "https://localhost:8080/"
    },
    "id": "qVleuqiOzzm3",
    "outputId": "f1b633c0-bf9c-4d22-9975-36d7243d6181"
   },
   "outputs": [
    {
     "name": "stdout",
     "output_type": "stream",
     "text": [
      "Threshold: 0.1\n",
      "Micro-average quality numbers\n",
      "Precision: 0.4029, Recall: 0.8797, F1-measure: 0.5527\n",
      "Threshold: 0.2\n",
      "Micro-average quality numbers\n",
      "Precision: 0.4678, Recall: 0.7826, F1-measure: 0.5855\n",
      "Threshold: 0.3\n",
      "Micro-average quality numbers\n",
      "Precision: 0.5237, Recall: 0.7054, F1-measure: 0.6011\n",
      "Threshold: 0.4\n",
      "Micro-average quality numbers\n",
      "Precision: 0.5576, Recall: 0.6025, F1-measure: 0.5792\n",
      "Threshold: 0.5\n",
      "Micro-average quality numbers\n",
      "Precision: 0.5881, Recall: 0.5012, F1-measure: 0.5412\n",
      "Threshold: 0.6\n",
      "Micro-average quality numbers\n",
      "Precision: 0.6331, Recall: 0.4066, F1-measure: 0.4952\n",
      "Threshold: 0.7\n",
      "Micro-average quality numbers\n",
      "Precision: 0.6694, Recall: 0.2739, F1-measure: 0.3887\n",
      "Threshold: 0.8\n",
      "Micro-average quality numbers\n",
      "Precision: 0.7383, Recall: 0.1826, F1-measure: 0.2927\n",
      "Threshold: 0.9\n",
      "Micro-average quality numbers\n",
      "Precision: 0.8082, Recall: 0.0979, F1-measure: 0.1747\n"
     ]
    }
   ],
   "source": [
    "from sklearn.metrics import precision_score,recall_score,f1_score\n",
    "\n",
    "predictions=model.predict(X_test)\n",
    "thresholds=[0.1,0.2,0.3,0.4,0.5,0.6,0.7,0.8,0.9]\n",
    "for val in thresholds:\n",
    "    pred=predictions.copy()\n",
    "  \n",
    "    pred[pred>=val]=1\n",
    "    pred[pred<val]=0\n",
    "  \n",
    "    precision = precision_score(y_test, pred, average='micro')\n",
    "    recall = recall_score(y_test, pred, average='micro')\n",
    "    f1 = f1_score(y_test, pred, average='micro')\n",
    "    print(\"Threshold: {:.1f}\".format(val))\n",
    "    print(\"Micro-average quality numbers\")\n",
    "    print(\"Precision: {:.4f}, Recall: {:.4f}, F1-measure: {:.4f}\".format(precision, recall, f1))"
   ]
  },
  {
   "cell_type": "code",
   "execution_count": 37,
   "metadata": {
    "id": "2rMQBRG5430R"
   },
   "outputs": [],
   "source": [
    "from keras.callbacks import ModelCheckpoint\n",
    "\n",
    "mc = ModelCheckpoint(filepath='best_model.h5',moniter='val_acc',mode='max',verbose=1,save_best_only=True)"
   ]
  },
  {
   "cell_type": "code",
   "execution_count": 108,
   "metadata": {
    "colab": {
     "base_uri": "https://localhost:8080/"
    },
    "id": "xV62E1EW62Co",
    "outputId": "59ce833c-4366-45e0-aa39-b3a1482d3d41"
   },
   "outputs": [
    {
     "name": "stdout",
     "output_type": "stream",
     "text": [
      "                      precision    recall  f1-score   support\n",
      "\n",
      "             Fantasy       0.51      0.52      0.52       134\n",
      "     Science Fiction       0.59      0.71      0.64       156\n",
      " Speculative fiction       0.50      0.75      0.60       274\n",
      "             Fiction       0.47      0.67      0.55       204\n",
      "               Novel       0.65      0.70      0.67       172\n",
      "Childrens literature       0.50      0.78      0.61       265\n",
      "\n",
      "           micro avg       0.52      0.71      0.60      1205\n",
      "           macro avg       0.54      0.69      0.60      1205\n",
      "        weighted avg       0.53      0.71      0.60      1205\n",
      "         samples avg       0.53      0.72      0.58      1205\n",
      "\n"
     ]
    }
   ],
   "source": [
    "from IPython.core.pylabtools import figsize\n",
    "import seaborn as sns\n",
    "from sklearn.metrics import accuracy_score,multilabel_confusion_matrix\n",
    "from sklearn.metrics import classification_report\n",
    "\n",
    "y_pred = model.predict(X_test)\n",
    "y_pred = y_pred >0.3\n",
    "conf_mat = multilabel_confusion_matrix(y_test,y_pred)\n",
    "print(classification_report(y_test,y_pred,target_names=labels_list))\n",
    "# print(conf_mat)\n",
    "# fig, ax = plt.subplots(figsize=(10,8))\n",
    "# sns.heatmap(conf_mat, annot=True,fmt='d',xticklabels=labels_list,yticklabels=labels_list)\n",
    "# plt.ylabel('Real Result',fontsize=18)\n",
    "# plt.xlabel('Prodiction Result',fontsize=18)"
   ]
  }
 ],
 "metadata": {
  "colab": {
   "name": "LSTM.ipynb",
   "provenance": []
  },
  "kernelspec": {
   "display_name": "Python 3 (ipykernel)",
   "language": "python",
   "name": "python3"
  },
  "language_info": {
   "codemirror_mode": {
    "name": "ipython",
    "version": 3
   },
   "file_extension": ".py",
   "mimetype": "text/x-python",
   "name": "python",
   "nbconvert_exporter": "python",
   "pygments_lexer": "ipython3",
   "version": "3.9.12"
  }
 },
 "nbformat": 4,
 "nbformat_minor": 4
}
